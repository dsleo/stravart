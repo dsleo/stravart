{
 "cells": [
  {
   "cell_type": "markdown",
   "id": "b7010a60",
   "metadata": {},
   "source": [
    "# Optimization !  \n",
    "Looking for the best route with optuna."
   ]
  },
  {
   "cell_type": "code",
   "execution_count": null,
   "id": "d3485311-74af-4942-9fbd-37cf5a564feb",
   "metadata": {},
   "outputs": [],
   "source": [
    "%load_ext autoreload\n",
    "%autoreload 2"
   ]
  },
  {
   "cell_type": "code",
   "execution_count": null,
   "id": "f491d2f6-f7b1-447a-bb95-2855f520aec0",
   "metadata": {},
   "outputs": [],
   "source": [
    "from stravart.utils import *\n",
    "from stravart.polygone import *\n",
    "from stravart.operations import *\n",
    "from stravart.visualization import *\n",
    "from stravart.operations import *\n",
    "from stravart.metrics import *\n",
    "\n",
    "import optuna\n",
    "\n",
    "cat_face_coordinates = [\n",
    "    # Start from the bottom of the left ear\n",
    "    (-4, 7), (-3.5, 8), (-3, 9), (-2.5, 10), (-2, 10.5), (-1.5, 11), (-1, 11.5), (-0.5, 11.75), (0, 12),\n",
    "    # Top of head to the right ear\n",
    "    (0.5, 11.75), (1, 11.5), (1.5, 11), (2, 10.5), (2.5, 10), (3, 9), (3.5, 8), (4, 7),\n",
    "    # Right side of the face\n",
    "    (3.5, 6), (3, 5), (2.5, 4), (2, 3), (1.5, 2), (1, 1), (0.5, 0), (0, -1),\n",
    "    # Bottom of the face and left side\n",
    "    (-0.5, 0), (-1, 1), (-1.5, 2), (-2, 3), (-2.5, 4), (-3, 5), (-3.5, 6), (-4, 7),\n",
    "    # Adding whiskers on the left side\n",
    "    (-4.5, 6.5), (-5, 6), (-5.5, 5.5), (-6, 5), (-5.5, 4.5), (-5, 4), (-4.5, 3.5), (-4, 3),\n",
    "    # Returning to the bottom of the left ear\n",
    "    (-3.5, 3.5), (-3, 4), (-2.5, 4.5), (-2, 5), (-1.5, 5.5), (-1, 6), (-0.5, 6.5), (0, 7),\n",
    "    # Crossing to the right side\n",
    "    (0.5, 6.5), (1, 6), (1.5, 5.5), (2, 5), (2.5, 4.5), (3, 4), (3.5, 3.5), (4, 3),\n",
    "    # Adding whiskers on the right side\n",
    "    (4.5, 3.5), (5, 4), (5.5, 4.5), (6, 5), (5.5, 5.5), (5, 6), (4.5, 6.5), (4, 7),\n",
    "    # Completing the loop back to the start\n",
    "    (3.5, 7.5), (3, 8), (2.5, 8.5), (2, 9), (1.5, 9.5), (1, 10), (0.5, 10.5), (0, 11),\n",
    "    (-0.5, 10.5), (-1, 10), (-1.5, 9.5), (-2, 9), (-2.5, 8.5), (-3, 8), (-3.5, 7.5), (-4, 7)\n",
    "]\n",
    "\n",
    "origin = simplify_coordinates(cat_face_coordinates)\n",
    "poly =  Polygon.from_list(coordinates_list=origin, system=\"cartesian\")\n",
    "normed_poly = poly.scale_coordinates()"
   ]
  },
  {
   "cell_type": "code",
   "execution_count": null,
   "id": "22c8761d-82c2-4874-b587-8c4556d9ea79",
   "metadata": {
    "scrolled": true
   },
   "outputs": [],
   "source": [
    "def generate_grid(lat_start, lat_end, lon_start, lon_end, lat_points, lon_points):\n",
    "    lat_step = (lat_end - lat_start) / (lat_points - 1)\n",
    "    lon_step = (lon_end - lon_start) / (lon_points - 1)\n",
    "\n",
    "    grid = []\n",
    "    for i in range(lat_points):\n",
    "        for j in range(lon_points):\n",
    "            lat = lat_start + i * lat_step\n",
    "            lon = lon_start + j * lon_step\n",
    "            grid.append((lat, lon))\n",
    "    \n",
    "    return grid\n",
    "\n",
    "def generate_route(gps_poly):\n",
    "    bicycle_contour = gps_poly.get_nearest_bicycle_road_points(dist=2000)\n",
    "    final_contour, path_mapping = Route(bicycle_contour).fill_paths_between_points()\n",
    "    return final_contour, path_mapping\n",
    "\n",
    "def define_search_space(trial, city_grid):\n",
    "    angle = trial.suggest_float('rot_angle', -20, 20, step=5)\n",
    "\n",
    "    # Randomly select a map center from city_grid\n",
    "    map_center_idx = trial.suggest_int('map_center_idx', 0, len(city_grid) - 1)\n",
    "    map_center = city_grid[map_center_idx]\n",
    "\n",
    "    # Use discrete increments for radius\n",
    "    #radius = trial.suggest_discrete_uniform('radius', 0.01, 0.1, 0.005)\n",
    "    radius = trial.suggest_float('radius', 0.01, 0.1, step= 0.005)\n",
    "\n",
    "    return angle, map_center, radius\n",
    "\n",
    "def objective(trial, poly, city_grid):\n",
    "    angle, map_center, radius = define_search_space(trial,city_grid=city_grid)\n",
    "\n",
    "    # Apply the operation and projection\n",
    "    new_poly = Rotation(angle).apply(poly)\n",
    "    projection = Projection(center=map_center, radius=radius, map_type=\"GPS\")\n",
    "    gps_poly = projection.apply(new_poly)\n",
    "\n",
    "    # Generate route and calculate loss\n",
    "    final_contour, path_mapping = generate_route(gps_poly)\n",
    "    loss = diff_area(final_contour, path_mapping)\n",
    "\n",
    "    trial.set_user_attr('final_contour', final_contour)\n",
    "    trial.set_user_attr('path_mapping', path_mapping)\n",
    "\n",
    "    return loss"
   ]
  },
  {
   "cell_type": "code",
   "execution_count": null,
   "id": "cccbf87a",
   "metadata": {},
   "outputs": [],
   "source": [
    "# Define bounding box of Paris\n",
    "lat_start, lat_end = 48.8156, 48.9022\n",
    "lon_start, lon_end = 2.2241, 2.4699\n",
    "\n",
    "city_grid = generate_grid(lat_start, lat_end, lon_start, lon_end, 5, 5)\n",
    "\n",
    "study = optuna.create_study(direction='minimize')\n",
    "#study.optimize(objective, n_trials=5)\n",
    "study.optimize(lambda trial: objective(trial, poly=poly, city_grid=city_grid), n_trials=10)\n",
    "\n",
    "# Print the best parameters\n",
    "print(\"Best trial:\")\n",
    "best_trial = study.best_trial\n",
    "best_final_contour = best_trial.user_attrs['final_contour']\n",
    "best_path_mapping = best_trial.user_attrs['path_mapping']\n",
    "map_center = city_grid[study.best_params['map_center_idx']]\n",
    "\n",
    "poly_final = Polygon.from_route(best_final_contour, system=\"GPS\")\n",
    "\n",
    "print(\" Value of loss:\", best_trial.value)\n",
    "print(\" Params: \")\n",
    "for key, value in best_trial.params.items():\n",
    "    print(f\"    {key}: {value}\")\n",
    "\n",
    "print(\"Route length (kms): \", poly_final.perimeter)"
   ]
  },
  {
   "cell_type": "code",
   "execution_count": null,
   "id": "91ac5c3a-e4d6-4a24-89f4-f8ee809844de",
   "metadata": {},
   "outputs": [],
   "source": [
    "plot_route(map_center=map_center,route=best_final_contour, points=True)"
   ]
  },
  {
   "cell_type": "code",
   "execution_count": null,
   "id": "6e72c686-eaa4-4c07-b327-51fc44796a70",
   "metadata": {},
   "outputs": [],
   "source": []
  }
 ],
 "metadata": {
  "kernelspec": {
   "display_name": "Python 3 (ipykernel)",
   "language": "python",
   "name": "python3"
  },
  "language_info": {
   "codemirror_mode": {
    "name": "ipython",
    "version": 3
   },
   "file_extension": ".py",
   "mimetype": "text/x-python",
   "name": "python",
   "nbconvert_exporter": "python",
   "pygments_lexer": "ipython3",
   "version": "3.11.4"
  }
 },
 "nbformat": 4,
 "nbformat_minor": 5
}
